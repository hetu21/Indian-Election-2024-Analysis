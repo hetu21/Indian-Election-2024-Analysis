{
 "cells": [
  {
   "cell_type": "code",
   "execution_count": 1,
   "id": "a7259db4",
   "metadata": {},
   "outputs": [],
   "source": [
    "import pandas as pd\n",
    "import numpy as np"
   ]
  },
  {
   "cell_type": "code",
   "execution_count": 2,
   "id": "102a1f1e",
   "metadata": {},
   "outputs": [],
   "source": [
    "df = pd.read_csv(r\"C:\\Users\\Het\\Downloads\\final_election_result_data.csv\")"
   ]
  },
  {
   "cell_type": "code",
   "execution_count": 3,
   "id": "99a25497",
   "metadata": {},
   "outputs": [
    {
     "data": {
      "text/html": [
       "<div>\n",
       "<style scoped>\n",
       "    .dataframe tbody tr th:only-of-type {\n",
       "        vertical-align: middle;\n",
       "    }\n",
       "\n",
       "    .dataframe tbody tr th {\n",
       "        vertical-align: top;\n",
       "    }\n",
       "\n",
       "    .dataframe thead th {\n",
       "        text-align: right;\n",
       "    }\n",
       "</style>\n",
       "<table border=\"1\" class=\"dataframe\">\n",
       "  <thead>\n",
       "    <tr style=\"text-align: right;\">\n",
       "      <th></th>\n",
       "      <th>Sr No</th>\n",
       "      <th>State</th>\n",
       "      <th>Constituency</th>\n",
       "      <th>Candidate Name</th>\n",
       "      <th>Party Name</th>\n",
       "      <th>EVM Votes</th>\n",
       "      <th>Postal Votes</th>\n",
       "      <th>Total Votes</th>\n",
       "      <th>Percent Votes</th>\n",
       "    </tr>\n",
       "  </thead>\n",
       "  <tbody>\n",
       "    <tr>\n",
       "      <th>0</th>\n",
       "      <td>1</td>\n",
       "      <td>Andaman &amp; Nicobar Islands</td>\n",
       "      <td>Parliamentary  Constituency  1 - Andaman &amp; Nic...</td>\n",
       "      <td>BISHNU PADA RAY</td>\n",
       "      <td>Bharatiya Janata Party</td>\n",
       "      <td>102182</td>\n",
       "      <td>254</td>\n",
       "      <td>102436</td>\n",
       "      <td>50.58</td>\n",
       "    </tr>\n",
       "    <tr>\n",
       "      <th>1</th>\n",
       "      <td>2</td>\n",
       "      <td>Andaman &amp; Nicobar Islands</td>\n",
       "      <td>Parliamentary  Constituency  1 - Andaman &amp; Nic...</td>\n",
       "      <td>KULDEEP RAI SHARMA</td>\n",
       "      <td>Indian National Congress</td>\n",
       "      <td>77829</td>\n",
       "      <td>211</td>\n",
       "      <td>78040</td>\n",
       "      <td>38.54</td>\n",
       "    </tr>\n",
       "    <tr>\n",
       "      <th>2</th>\n",
       "      <td>3</td>\n",
       "      <td>Andaman &amp; Nicobar Islands</td>\n",
       "      <td>Parliamentary  Constituency  1 - Andaman &amp; Nic...</td>\n",
       "      <td>MANOJ PAUL</td>\n",
       "      <td>Andaman Nicobar Democratic Congress</td>\n",
       "      <td>8236</td>\n",
       "      <td>18</td>\n",
       "      <td>8254</td>\n",
       "      <td>4.08</td>\n",
       "    </tr>\n",
       "    <tr>\n",
       "      <th>3</th>\n",
       "      <td>4</td>\n",
       "      <td>Andaman &amp; Nicobar Islands</td>\n",
       "      <td>Parliamentary  Constituency  1 - Andaman &amp; Nic...</td>\n",
       "      <td>D AYYAPPAN</td>\n",
       "      <td>Communist Party of India  (Marxist)</td>\n",
       "      <td>6009</td>\n",
       "      <td>8</td>\n",
       "      <td>6017</td>\n",
       "      <td>2.97</td>\n",
       "    </tr>\n",
       "    <tr>\n",
       "      <th>4</th>\n",
       "      <td>5</td>\n",
       "      <td>Andaman &amp; Nicobar Islands</td>\n",
       "      <td>Parliamentary  Constituency  1 - Andaman &amp; Nic...</td>\n",
       "      <td>V.K. ABDUL AZIZ</td>\n",
       "      <td>Independent</td>\n",
       "      <td>2195</td>\n",
       "      <td>8</td>\n",
       "      <td>2203</td>\n",
       "      <td>1.09</td>\n",
       "    </tr>\n",
       "  </tbody>\n",
       "</table>\n",
       "</div>"
      ],
      "text/plain": [
       "   Sr No                      State  \\\n",
       "0      1  Andaman & Nicobar Islands   \n",
       "1      2  Andaman & Nicobar Islands   \n",
       "2      3  Andaman & Nicobar Islands   \n",
       "3      4  Andaman & Nicobar Islands   \n",
       "4      5  Andaman & Nicobar Islands   \n",
       "\n",
       "                                        Constituency      Candidate Name  \\\n",
       "0  Parliamentary  Constituency  1 - Andaman & Nic...     BISHNU PADA RAY   \n",
       "1  Parliamentary  Constituency  1 - Andaman & Nic...  KULDEEP RAI SHARMA   \n",
       "2  Parliamentary  Constituency  1 - Andaman & Nic...          MANOJ PAUL   \n",
       "3  Parliamentary  Constituency  1 - Andaman & Nic...          D AYYAPPAN   \n",
       "4  Parliamentary  Constituency  1 - Andaman & Nic...     V.K. ABDUL AZIZ   \n",
       "\n",
       "                            Party Name EVM Votes Postal Votes Total Votes  \\\n",
       "0               Bharatiya Janata Party    102182          254      102436   \n",
       "1             Indian National Congress     77829          211       78040   \n",
       "2  Andaman Nicobar Democratic Congress      8236           18        8254   \n",
       "3  Communist Party of India  (Marxist)      6009            8        6017   \n",
       "4                          Independent      2195            8        2203   \n",
       "\n",
       "  Percent Votes  \n",
       "0         50.58  \n",
       "1         38.54  \n",
       "2          4.08  \n",
       "3          2.97  \n",
       "4          1.09  "
      ]
     },
     "execution_count": 3,
     "metadata": {},
     "output_type": "execute_result"
    }
   ],
   "source": [
    "df.head()"
   ]
  },
  {
   "cell_type": "code",
   "execution_count": 25,
   "id": "deb5f1b0",
   "metadata": {},
   "outputs": [
    {
     "data": {
      "text/plain": [
       "Sr No              int64\n",
       "State             object\n",
       "Constituency      object\n",
       "Candidate Name    object\n",
       "Party Name        object\n",
       "EVM Votes         object\n",
       "Postal Votes      object\n",
       "Total Votes       object\n",
       "Percent Votes     object\n",
       "dtype: object"
      ]
     },
     "execution_count": 25,
     "metadata": {},
     "output_type": "execute_result"
    }
   ],
   "source": [
    "df.dtypes # Checking data types"
   ]
  },
  {
   "cell_type": "code",
   "execution_count": 57,
   "id": "6d673876",
   "metadata": {},
   "outputs": [],
   "source": [
    "#converting data types to numeric\n",
    "column_list = ['EVM Votes', 'Postal Votes', 'Total Votes', 'Percent Votes']\n",
    "for ele in column_list:\n",
    "    df[ele] = pd.to_numeric(df[ele], errors = \"coerce\")"
   ]
  },
  {
   "cell_type": "code",
   "execution_count": 58,
   "id": "3101ef81",
   "metadata": {},
   "outputs": [
    {
     "data": {
      "text/plain": [
       "Sr No               int64\n",
       "State              object\n",
       "Constituency       object\n",
       "Candidate Name     object\n",
       "Party Name         object\n",
       "EVM Votes         float64\n",
       "Postal Votes      float64\n",
       "Total Votes       float64\n",
       "Percent Votes     float64\n",
       "dtype: object"
      ]
     },
     "execution_count": 58,
     "metadata": {},
     "output_type": "execute_result"
    }
   ],
   "source": [
    "df.dtypes #Checking"
   ]
  },
  {
   "cell_type": "markdown",
   "id": "cdda3252",
   "metadata": {},
   "source": [
    "### Identifying and treating Null Values"
   ]
  },
  {
   "cell_type": "code",
   "execution_count": 108,
   "id": "3219f47e",
   "metadata": {
    "scrolled": true
   },
   "outputs": [
    {
     "data": {
      "text/plain": [
       "Sr No               0\n",
       "State               0\n",
       "Constituency        0\n",
       "Candidate Name      0\n",
       "Party Name          0\n",
       "EVM Votes           1\n",
       "Postal Votes      578\n",
       "Total Votes         1\n",
       "Percent Votes       1\n",
       "dtype: int64"
      ]
     },
     "execution_count": 108,
     "metadata": {},
     "output_type": "execute_result"
    }
   ],
   "source": [
    "df.isnull().sum()"
   ]
  },
  {
   "cell_type": "code",
   "execution_count": 110,
   "id": "3b7a6d25",
   "metadata": {},
   "outputs": [
    {
     "data": {
      "text/html": [
       "<div>\n",
       "<style scoped>\n",
       "    .dataframe tbody tr th:only-of-type {\n",
       "        vertical-align: middle;\n",
       "    }\n",
       "\n",
       "    .dataframe tbody tr th {\n",
       "        vertical-align: top;\n",
       "    }\n",
       "\n",
       "    .dataframe thead th {\n",
       "        text-align: right;\n",
       "    }\n",
       "</style>\n",
       "<table border=\"1\" class=\"dataframe\">\n",
       "  <thead>\n",
       "    <tr style=\"text-align: right;\">\n",
       "      <th></th>\n",
       "      <th>Sr No</th>\n",
       "      <th>State</th>\n",
       "      <th>Constituency</th>\n",
       "      <th>Candidate Name</th>\n",
       "      <th>Party Name</th>\n",
       "      <th>EVM Votes</th>\n",
       "      <th>Postal Votes</th>\n",
       "      <th>Total Votes</th>\n",
       "      <th>Percent Votes</th>\n",
       "    </tr>\n",
       "  </thead>\n",
       "  <tbody>\n",
       "    <tr>\n",
       "      <th>11</th>\n",
       "      <td>12</td>\n",
       "      <td>Andaman &amp; Nicobar Islands</td>\n",
       "      <td>Parliamentary  Constituency  1 - Andaman &amp; Nic...</td>\n",
       "      <td>ANAND RAMNATH ARLEKAR</td>\n",
       "      <td>Independent</td>\n",
       "      <td>342.0</td>\n",
       "      <td>NaN</td>\n",
       "      <td>342.0</td>\n",
       "      <td>0.17</td>\n",
       "    </tr>\n",
       "    <tr>\n",
       "      <th>143</th>\n",
       "      <td>13</td>\n",
       "      <td>Andhra Pradesh</td>\n",
       "      <td>Parliamentary  Constituency  13 - Guntur (Andh...</td>\n",
       "      <td>VISHNU REDDY LANKIREDDY</td>\n",
       "      <td>Bengaluru Nava Nirmana Party</td>\n",
       "      <td>461.0</td>\n",
       "      <td>NaN</td>\n",
       "      <td>461.0</td>\n",
       "      <td>0.03</td>\n",
       "    </tr>\n",
       "    <tr>\n",
       "      <th>150</th>\n",
       "      <td>20</td>\n",
       "      <td>Andhra Pradesh</td>\n",
       "      <td>Parliamentary  Constituency  13 - Guntur (Andh...</td>\n",
       "      <td>ASHOK ANAND GALI</td>\n",
       "      <td>Independent</td>\n",
       "      <td>335.0</td>\n",
       "      <td>NaN</td>\n",
       "      <td>335.0</td>\n",
       "      <td>0.02</td>\n",
       "    </tr>\n",
       "    <tr>\n",
       "      <th>156</th>\n",
       "      <td>26</td>\n",
       "      <td>Andhra Pradesh</td>\n",
       "      <td>Parliamentary  Constituency  13 - Guntur (Andh...</td>\n",
       "      <td>VANKAYALAPATI VENKATA SIVA RAMANJANEYULU</td>\n",
       "      <td>Independent</td>\n",
       "      <td>268.0</td>\n",
       "      <td>NaN</td>\n",
       "      <td>268.0</td>\n",
       "      <td>0.02</td>\n",
       "    </tr>\n",
       "    <tr>\n",
       "      <th>159</th>\n",
       "      <td>29</td>\n",
       "      <td>Andhra Pradesh</td>\n",
       "      <td>Parliamentary  Constituency  13 - Guntur (Andh...</td>\n",
       "      <td>SRIKRISHNA AKKISETTI</td>\n",
       "      <td>Independent</td>\n",
       "      <td>179.0</td>\n",
       "      <td>NaN</td>\n",
       "      <td>179.0</td>\n",
       "      <td>0.01</td>\n",
       "    </tr>\n",
       "    <tr>\n",
       "      <th>...</th>\n",
       "      <td>...</td>\n",
       "      <td>...</td>\n",
       "      <td>...</td>\n",
       "      <td>...</td>\n",
       "      <td>...</td>\n",
       "      <td>...</td>\n",
       "      <td>...</td>\n",
       "      <td>...</td>\n",
       "      <td>...</td>\n",
       "    </tr>\n",
       "    <tr>\n",
       "      <th>8769</th>\n",
       "      <td>14</td>\n",
       "      <td>West Bengal</td>\n",
       "      <td>Parliamentary  Constituency  8 - Maldaha Daksh...</td>\n",
       "      <td>JALALUDDIN SARKAR</td>\n",
       "      <td>Bharatiya Nyay-Adhikar Raksha Party</td>\n",
       "      <td>2075.0</td>\n",
       "      <td>NaN</td>\n",
       "      <td>2075.0</td>\n",
       "      <td>0.15</td>\n",
       "    </tr>\n",
       "    <tr>\n",
       "      <th>8781</th>\n",
       "      <td>8</td>\n",
       "      <td>West Bengal</td>\n",
       "      <td>Parliamentary  Constituency  7 - Maldaha Uttar...</td>\n",
       "      <td>JOSEPH KISKU</td>\n",
       "      <td>Ambedkarite Party of India</td>\n",
       "      <td>4637.0</td>\n",
       "      <td>NaN</td>\n",
       "      <td>4637.0</td>\n",
       "      <td>0.33</td>\n",
       "    </tr>\n",
       "    <tr>\n",
       "      <th>8785</th>\n",
       "      <td>12</td>\n",
       "      <td>West Bengal</td>\n",
       "      <td>Parliamentary  Constituency  7 - Maldaha Uttar...</td>\n",
       "      <td>SUBHASH BARMAN</td>\n",
       "      <td>Kamatapur People’s Party (United)</td>\n",
       "      <td>2019.0</td>\n",
       "      <td>NaN</td>\n",
       "      <td>2019.0</td>\n",
       "      <td>0.14</td>\n",
       "    </tr>\n",
       "    <tr>\n",
       "      <th>8818</th>\n",
       "      <td>6</td>\n",
       "      <td>West Bengal</td>\n",
       "      <td>Parliamentary  Constituency  11 - Murshidabad ...</td>\n",
       "      <td>SAHABUDDIN MALLIK</td>\n",
       "      <td>Independent</td>\n",
       "      <td>4156.0</td>\n",
       "      <td>NaN</td>\n",
       "      <td>4156.0</td>\n",
       "      <td>0.27</td>\n",
       "    </tr>\n",
       "    <tr>\n",
       "      <th>8897</th>\n",
       "      <td>9</td>\n",
       "      <td>West Bengal</td>\n",
       "      <td>Parliamentary  Constituency  26 - Uluberia (We...</td>\n",
       "      <td>SK. SAPIYAR ALI</td>\n",
       "      <td>Independent</td>\n",
       "      <td>2924.0</td>\n",
       "      <td>NaN</td>\n",
       "      <td>2924.0</td>\n",
       "      <td>0.21</td>\n",
       "    </tr>\n",
       "  </tbody>\n",
       "</table>\n",
       "<p>578 rows × 9 columns</p>\n",
       "</div>"
      ],
      "text/plain": [
       "      Sr No                      State  \\\n",
       "11       12  Andaman & Nicobar Islands   \n",
       "143      13             Andhra Pradesh   \n",
       "150      20             Andhra Pradesh   \n",
       "156      26             Andhra Pradesh   \n",
       "159      29             Andhra Pradesh   \n",
       "...     ...                        ...   \n",
       "8769     14                West Bengal   \n",
       "8781      8                West Bengal   \n",
       "8785     12                West Bengal   \n",
       "8818      6                West Bengal   \n",
       "8897      9                West Bengal   \n",
       "\n",
       "                                           Constituency  \\\n",
       "11    Parliamentary  Constituency  1 - Andaman & Nic...   \n",
       "143   Parliamentary  Constituency  13 - Guntur (Andh...   \n",
       "150   Parliamentary  Constituency  13 - Guntur (Andh...   \n",
       "156   Parliamentary  Constituency  13 - Guntur (Andh...   \n",
       "159   Parliamentary  Constituency  13 - Guntur (Andh...   \n",
       "...                                                 ...   \n",
       "8769  Parliamentary  Constituency  8 - Maldaha Daksh...   \n",
       "8781  Parliamentary  Constituency  7 - Maldaha Uttar...   \n",
       "8785  Parliamentary  Constituency  7 - Maldaha Uttar...   \n",
       "8818  Parliamentary  Constituency  11 - Murshidabad ...   \n",
       "8897  Parliamentary  Constituency  26 - Uluberia (We...   \n",
       "\n",
       "                                Candidate Name  \\\n",
       "11                       ANAND RAMNATH ARLEKAR   \n",
       "143                    VISHNU REDDY LANKIREDDY   \n",
       "150                           ASHOK ANAND GALI   \n",
       "156   VANKAYALAPATI VENKATA SIVA RAMANJANEYULU   \n",
       "159                       SRIKRISHNA AKKISETTI   \n",
       "...                                        ...   \n",
       "8769                         JALALUDDIN SARKAR   \n",
       "8781                              JOSEPH KISKU   \n",
       "8785                            SUBHASH BARMAN   \n",
       "8818                         SAHABUDDIN MALLIK   \n",
       "8897                           SK. SAPIYAR ALI   \n",
       "\n",
       "                               Party Name  EVM Votes  Postal Votes  \\\n",
       "11                            Independent      342.0           NaN   \n",
       "143          Bengaluru Nava Nirmana Party      461.0           NaN   \n",
       "150                           Independent      335.0           NaN   \n",
       "156                           Independent      268.0           NaN   \n",
       "159                           Independent      179.0           NaN   \n",
       "...                                   ...        ...           ...   \n",
       "8769  Bharatiya Nyay-Adhikar Raksha Party     2075.0           NaN   \n",
       "8781           Ambedkarite Party of India     4637.0           NaN   \n",
       "8785    Kamatapur People’s Party (United)     2019.0           NaN   \n",
       "8818                          Independent     4156.0           NaN   \n",
       "8897                          Independent     2924.0           NaN   \n",
       "\n",
       "      Total Votes  Percent Votes  \n",
       "11          342.0           0.17  \n",
       "143         461.0           0.03  \n",
       "150         335.0           0.02  \n",
       "156         268.0           0.02  \n",
       "159         179.0           0.01  \n",
       "...           ...            ...  \n",
       "8769       2075.0           0.15  \n",
       "8781       4637.0           0.33  \n",
       "8785       2019.0           0.14  \n",
       "8818       4156.0           0.27  \n",
       "8897       2924.0           0.21  \n",
       "\n",
       "[578 rows x 9 columns]"
      ]
     },
     "execution_count": 110,
     "metadata": {},
     "output_type": "execute_result"
    }
   ],
   "source": [
    "df[df['Postal Votes'].isna()]"
   ]
  },
  {
   "cell_type": "markdown",
   "id": "54b8ac0e",
   "metadata": {},
   "source": [
    "We will replace all the Nan values in Postal Votes column by 0 "
   ]
  },
  {
   "cell_type": "code",
   "execution_count": 120,
   "id": "9ea5b0db",
   "metadata": {},
   "outputs": [
    {
     "name": "stdout",
     "output_type": "stream",
     "text": [
      "Sr No             0\n",
      "State             0\n",
      "Constituency      0\n",
      "Candidate Name    0\n",
      "Party Name        0\n",
      "EVM Votes         0\n",
      "Postal Votes      0\n",
      "Total Votes       0\n",
      "Percent Votes     0\n",
      "dtype: int64\n"
     ]
    }
   ],
   "source": [
    "df.fillna(0,inplace = True)\n",
    "print(df.isnull().sum())"
   ]
  },
  {
   "cell_type": "code",
   "execution_count": 109,
   "id": "248f56df",
   "metadata": {
    "scrolled": true
   },
   "outputs": [
    {
     "data": {
      "text/html": [
       "<div>\n",
       "<style scoped>\n",
       "    .dataframe tbody tr th:only-of-type {\n",
       "        vertical-align: middle;\n",
       "    }\n",
       "\n",
       "    .dataframe tbody tr th {\n",
       "        vertical-align: top;\n",
       "    }\n",
       "\n",
       "    .dataframe thead th {\n",
       "        text-align: right;\n",
       "    }\n",
       "</style>\n",
       "<table border=\"1\" class=\"dataframe\">\n",
       "  <thead>\n",
       "    <tr style=\"text-align: right;\">\n",
       "      <th></th>\n",
       "      <th>Sr No</th>\n",
       "      <th>State</th>\n",
       "      <th>Constituency</th>\n",
       "      <th>Candidate Name</th>\n",
       "      <th>Party Name</th>\n",
       "      <th>EVM Votes</th>\n",
       "      <th>Postal Votes</th>\n",
       "      <th>Total Votes</th>\n",
       "      <th>Percent Votes</th>\n",
       "    </tr>\n",
       "  </thead>\n",
       "  <tbody>\n",
       "    <tr>\n",
       "      <th>1737</th>\n",
       "      <td>1</td>\n",
       "      <td>Gujarat</td>\n",
       "      <td>Parliamentary  Constituency  24 - Surat (Gujar...</td>\n",
       "      <td>MUKESHKUMAR CHANDRAKAANT DALAL ( Uncontested )</td>\n",
       "      <td>Bharatiya Janata Party</td>\n",
       "      <td>NaN</td>\n",
       "      <td>NaN</td>\n",
       "      <td>NaN</td>\n",
       "      <td>NaN</td>\n",
       "    </tr>\n",
       "  </tbody>\n",
       "</table>\n",
       "</div>"
      ],
      "text/plain": [
       "      Sr No    State                                       Constituency  \\\n",
       "1737      1  Gujarat  Parliamentary  Constituency  24 - Surat (Gujar...   \n",
       "\n",
       "                                      Candidate Name              Party Name  \\\n",
       "1737  MUKESHKUMAR CHANDRAKAANT DALAL ( Uncontested )  Bharatiya Janata Party   \n",
       "\n",
       "      EVM Votes  Postal Votes  Total Votes  Percent Votes  \n",
       "1737        NaN           NaN          NaN            NaN  "
      ]
     },
     "execution_count": 109,
     "metadata": {},
     "output_type": "execute_result"
    }
   ],
   "source": [
    "df[df['Total Votes'].isna()]"
   ]
  },
  {
   "cell_type": "markdown",
   "id": "180bc7d1",
   "metadata": {},
   "source": [
    "As surat was uncontested Seat we will add automatically add BJP to winner "
   ]
  },
  {
   "cell_type": "markdown",
   "id": "cd623222",
   "metadata": {},
   "source": [
    "## No. of Seats won by each party and adding winners column"
   ]
  },
  {
   "cell_type": "code",
   "execution_count": 149,
   "id": "8ae68913",
   "metadata": {},
   "outputs": [],
   "source": [
    "df_copy = df.copy(deep = True) # Copy of original df"
   ]
  },
  {
   "cell_type": "code",
   "execution_count": 171,
   "id": "b45e8f6a",
   "metadata": {},
   "outputs": [],
   "source": [
    "party_name = []\n",
    "for consti in df_copy[\"Constituency\"]:\n",
    "    consti_data = df_copy[df_copy[\"Constituency\"] == consti]\n",
    "    name = consti_data.loc[consti_data['Total Votes'].idxmax()][\"Party Name\"] #idxmax gives row index of party name where total votes is max\n",
    "    party_name.append(name)\n",
    "    "
   ]
  },
  {
   "cell_type": "code",
   "execution_count": 173,
   "id": "92ec53f9",
   "metadata": {},
   "outputs": [],
   "source": [
    "df_copy[\"Winning Party\"] = party_name"
   ]
  },
  {
   "cell_type": "code",
   "execution_count": 176,
   "id": "008b6e37",
   "metadata": {},
   "outputs": [
    {
     "data": {
      "text/plain": [
       "array(['Bharatiya Janata Party', 'Telugu Desam',\n",
       "       'Yuvajana Sramika Rythu Congress Party', 'Janasena Party',\n",
       "       'Asom Gana Parishad', 'Indian National Congress',\n",
       "       'United People’s Party, Liberal',\n",
       "       'Communist Party of India  (Marxist-Leninist)  (Liberation)',\n",
       "       'Rashtriya Janata Dal', 'Janata Dal  (United)',\n",
       "       'Hindustani Awam Morcha (Secular)',\n",
       "       'Lok Janshakti Party(Ram Vilas)', 'Independent',\n",
       "       'Jammu & Kashmir National Conference', 'Jharkhand Mukti Morcha',\n",
       "       'AJSU Party', 'Janata Dal  (Secular)',\n",
       "       'Communist Party of India  (Marxist)',\n",
       "       'Revolutionary Socialist Party', 'Kerala Congress',\n",
       "       'Indian Union Muslim League',\n",
       "       'Nationalist Congress Party – Sharadchandra Pawar', 'Shiv Sena',\n",
       "       'Shiv Sena (Uddhav Balasaheb Thackrey)',\n",
       "       'Nationalist Congress Party', 'Voice of the People Party',\n",
       "       'Zoram People’s Movement', 'Aam Aadmi Party',\n",
       "       'Shiromani Akali Dal', 'Bharat Adivasi Party',\n",
       "       'Rashtriya Loktantrik Party', 'Sikkim Krantikari Morcha',\n",
       "       'Dravida Munnetra Kazhagam', 'Viduthalai Chiruthaigal Katchi',\n",
       "       'Communist Party of India',\n",
       "       'Marumalarchi Dravida Munnetra Kazhagam',\n",
       "       'All India Majlis-E-Ittehadul Muslimeen', 'Samajwadi Party',\n",
       "       'Rashtriya Lok Dal', 'Apna Dal (Soneylal)',\n",
       "       'Aazad Samaj Party (Kanshi Ram)', 'All India Trinamool Congress'],\n",
       "      dtype=object)"
      ]
     },
     "execution_count": 176,
     "metadata": {},
     "output_type": "execute_result"
    }
   ],
   "source": [
    "df_copy[\"Winning Party\"].unique()"
   ]
  },
  {
   "cell_type": "code",
   "execution_count": 181,
   "id": "8137f1a2",
   "metadata": {},
   "outputs": [
    {
     "data": {
      "text/plain": [
       "Sr No               46\n",
       "State               25\n",
       "Constituency       240\n",
       "Candidate Name    3206\n",
       "Party Name         427\n",
       "EVM Votes         2990\n",
       "Postal Votes       716\n",
       "Total Votes       2967\n",
       "Percent Votes      768\n",
       "Winning Party        1\n",
       "dtype: int64"
      ]
     },
     "execution_count": 181,
     "metadata": {},
     "output_type": "execute_result"
    }
   ],
   "source": [
    "#Checking if the above performed operation is correct\n",
    "df_copy[df_copy[\"Winning Party\"] == \"Bharatiya Janata Party\"].nunique()"
   ]
  },
  {
   "cell_type": "code",
   "execution_count": 204,
   "id": "ad0b6f40",
   "metadata": {},
   "outputs": [
    {
     "name": "stdout",
     "output_type": "stream",
     "text": [
      "Bharatiya Janata Party-240\n",
      "Telugu Desam-16\n",
      "Yuvajana Sramika Rythu Congress Party-4\n",
      "Janasena Party-2\n",
      "Asom Gana Parishad-1\n",
      "Indian National Congress-99\n",
      "United People’s Party, Liberal-1\n",
      "Communist Party of India  (Marxist-Leninist)  (Liberation)-2\n",
      "Rashtriya Janata Dal-4\n",
      "Janata Dal  (United)-12\n",
      "Hindustani Awam Morcha (Secular)-1\n",
      "Lok Janshakti Party(Ram Vilas)-5\n",
      "Independent-7\n",
      "Jammu & Kashmir National Conference-2\n",
      "Jharkhand Mukti Morcha-3\n",
      "AJSU Party-1\n",
      "Janata Dal  (Secular)-2\n",
      "Communist Party of India  (Marxist)-4\n",
      "Revolutionary Socialist Party-1\n",
      "Kerala Congress-1\n",
      "Indian Union Muslim League-3\n",
      "Nationalist Congress Party – Sharadchandra Pawar-8\n",
      "Shiv Sena-7\n",
      "Shiv Sena (Uddhav Balasaheb Thackrey)-9\n",
      "Nationalist Congress Party-1\n",
      "Voice of the People Party-1\n",
      "Zoram People’s Movement-1\n",
      "Aam Aadmi Party-3\n",
      "Shiromani Akali Dal-1\n",
      "Bharat Adivasi Party-1\n",
      "Rashtriya Loktantrik Party-1\n",
      "Sikkim Krantikari Morcha-1\n",
      "Dravida Munnetra Kazhagam-22\n",
      "Viduthalai Chiruthaigal Katchi-2\n",
      "Communist Party of India-2\n",
      "Marumalarchi Dravida Munnetra Kazhagam-1\n",
      "All India Majlis-E-Ittehadul Muslimeen-1\n",
      "Samajwadi Party-37\n",
      "Rashtriya Lok Dal-2\n",
      "Apna Dal (Soneylal)-1\n",
      "Aazad Samaj Party (Kanshi Ram)-1\n",
      "All India Trinamool Congress-29\n"
     ]
    }
   ],
   "source": [
    "#Winner tally \n",
    "party_name_lst = df_copy[\"Winning Party\"].unique()\n",
    "for party in party_name_lst: \n",
    "    seat = df_copy[df_copy[\"Winning Party\"] == party].nunique()[2]\n",
    "    print(f'{party}-{seat}')"
   ]
  },
  {
   "cell_type": "markdown",
   "id": "5f56da1c",
   "metadata": {},
   "source": [
    "# Percent Win Analysis"
   ]
  },
  {
   "cell_type": "code",
   "execution_count": 214,
   "id": "8aef85a4",
   "metadata": {},
   "outputs": [],
   "source": [
    "# winners dataframe \n",
    "df_winners = df_copy.loc[df_copy.groupby('Constituency')['Total Votes'].idxmax()]"
   ]
  },
  {
   "cell_type": "code",
   "execution_count": 236,
   "id": "8c510771",
   "metadata": {},
   "outputs": [
    {
     "name": "stdout",
     "output_type": "stream",
     "text": [
      "Bharatiya Janata Party -154\n",
      "Telugu Desam -13\n",
      "Yuvajana Sramika Rythu Congress Party -0\n",
      "Janasena Party -2\n",
      "Asom Gana Parishad -1\n",
      "Indian National Congress -37\n",
      "United People’s Party, Liberal -0\n",
      "Communist Party of India  (Marxist-Leninist)  (Liberation) -0\n",
      "Rashtriya Janata Dal -0\n",
      "Janata Dal  (United) -2\n",
      "Hindustani Awam Morcha (Secular) -1\n",
      "Lok Janshakti Party(Ram Vilas) -4\n",
      "Independent -0\n",
      "Jammu & Kashmir National Conference -2\n",
      "Jharkhand Mukti Morcha -2\n",
      "AJSU Party -0\n",
      "Janata Dal  (Secular) -2\n",
      "Communist Party of India  (Marxist) -2\n",
      "Revolutionary Socialist Party -0\n",
      "Kerala Congress -0\n",
      "Indian Union Muslim League -2\n",
      "Nationalist Congress Party – Sharadchandra Pawar -2\n",
      "Shiv Sena -2\n",
      "Shiv Sena (Uddhav Balasaheb Thackrey) -2\n",
      "Nationalist Congress Party -1\n",
      "Voice of the People Party -1\n",
      "Zoram People’s Movement -0\n",
      "Aam Aadmi Party -0\n",
      "Shiromani Akali Dal -0\n",
      "Bharat Adivasi Party -1\n",
      "Rashtriya Loktantrik Party -0\n",
      "Sikkim Krantikari Morcha -0\n",
      "Dravida Munnetra Kazhagam -8\n",
      "Viduthalai Chiruthaigal Katchi -0\n",
      "Communist Party of India -0\n",
      "Marumalarchi Dravida Munnetra Kazhagam -1\n",
      "All India Majlis-E-Ittehadul Muslimeen -1\n",
      "Samajwadi Party -3\n",
      "Rashtriya Lok Dal -1\n",
      "Apna Dal (Soneylal) -0\n",
      "Aazad Samaj Party (Kanshi Ram) -1\n",
      "All India Trinamool Congress -7\n"
     ]
    }
   ],
   "source": [
    "#Finding count of each parties that won no. of seats more than 50% margin\n",
    "for party in party_name_lst:\n",
    "    winners_series = df_winners[df_winners[\"Winning Party\"] == party][\"Percent Votes\"]\n",
    "    percent_count = winners_series[winners_series > 50].count()\n",
    "    print(f'{party} -{percent_count}') \n",
    "    "
   ]
  },
  {
   "cell_type": "code",
   "execution_count": 231,
   "id": "4506c922",
   "metadata": {},
   "outputs": [
    {
     "data": {
      "text/plain": [
       "7"
      ]
     },
     "execution_count": 231,
     "metadata": {},
     "output_type": "execute_result"
    }
   ],
   "source": []
  },
  {
   "cell_type": "code",
   "execution_count": null,
   "id": "93018d57",
   "metadata": {},
   "outputs": [],
   "source": []
  }
 ],
 "metadata": {
  "kernelspec": {
   "display_name": "Python 3 (ipykernel)",
   "language": "python",
   "name": "python3"
  },
  "language_info": {
   "codemirror_mode": {
    "name": "ipython",
    "version": 3
   },
   "file_extension": ".py",
   "mimetype": "text/x-python",
   "name": "python",
   "nbconvert_exporter": "python",
   "pygments_lexer": "ipython3",
   "version": "3.9.7"
  }
 },
 "nbformat": 4,
 "nbformat_minor": 5
}
